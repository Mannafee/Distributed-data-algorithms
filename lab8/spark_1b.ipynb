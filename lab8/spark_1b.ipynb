{
 "cells": [
  {
   "cell_type": "code",
   "execution_count": 23,
   "metadata": {},
   "outputs": [],
   "source": [
    "from pyspark.sql import SparkSession\n",
    "from pyspark import SparkContext, SparkConf\n",
    "import pyspark.sql.functions as fn\n",
    "import matplotlib.pyplot as plt\n",
    "from pyspark_dist_explore import hist\n",
    "\n",
    "conf = SparkConf().setAppName(\"Spark Count\")\n",
    "sc = SparkContext.getOrCreate(conf=conf)\n",
    "\n",
    "spark = SparkSession \\\n",
    "    .builder \\\n",
    "    .appName(\"Python Spark create RDD example\") \\\n",
    "    .config(\"spark.some.config.option\", \"some-value\") \\\n",
    "    .getOrCreate()"
   ]
  },
  {
   "cell_type": "markdown",
   "metadata": {},
   "source": [
    "# Reading the json the data using pyspark dataframe"
   ]
  },
  {
   "cell_type": "code",
   "execution_count": 24,
   "metadata": {},
   "outputs": [
    {
     "name": "stdout",
     "output_type": "stream",
     "text": [
      "+------------------+------------------+----------+---------+------+----+\n",
      "|            course|               dob|first_name|last_name|points|s_id|\n",
      "+------------------+------------------+----------+---------+------+----+\n",
      "|Humanities and Art|  October 14, 1983|      Alan|      Joe|    10|   1|\n",
      "|  Computer Science|September 26, 1980|    Martin|  Genberg|    17|   2|\n",
      "|    Graphic Design|     June 12, 1982|     Athur|   Watson|    16|   3|\n",
      "|    Graphic Design|     April 5, 1987|  Anabelle|  Sanberg|    12|   4|\n",
      "|        Psychology|  November 1, 1978|      Kira| Schommer|    11|   5|\n",
      "|          Business|  17 February 1981| Christian|   Kiriam|    10|   6|\n",
      "|  Machine Learning|    1 January 1984|   Barbara|  Ballard|    14|   7|\n",
      "|     Deep Learning|  January 13, 1978|      John|     null|    10|   8|\n",
      "|  Machine Learning|  26 December 1989|    Marcus|   Carson|    15|   9|\n",
      "|           Physics|  30 December 1987|     Marta|   Brooks|    11|  10|\n",
      "|    Data Analytics|     June 12, 1975|     Holly| Schwartz|    12|  11|\n",
      "|  Computer Science|      July 2, 1985|     April|    Black|  null|  12|\n",
      "|  Computer Science|     July 22, 1980|     Irene|  Bradley|    13|  13|\n",
      "|        Psychology|   7 February 1986|      Mark|    Weber|    12|  14|\n",
      "|       Informatics|      May 18, 1987|     Rosie|   Norman|     9|  15|\n",
      "|          Business|   August 10, 1984|    Martin|   Steele|     7|  16|\n",
      "|  Machine Learning|  16 December 1990|     Colin| Martinez|     9|  17|\n",
      "|    Data Analytics|              null|   Bridget|    Twain|     6|  18|\n",
      "|          Business|      7 March 1980|   Darlene|    Mills|    19|  19|\n",
      "|    Data Analytics|      June 2, 1985|   Zachary|     null|    10|  20|\n",
      "+------------------+------------------+----------+---------+------+----+\n",
      "\n"
     ]
    }
   ],
   "source": [
    "df = spark.read.json(r\"E:\\Documents\\University of Hildesheim\\Distributed data analytics\\lab8\\students.json\")\n",
    "df.show()"
   ]
  },
  {
   "cell_type": "markdown",
   "metadata": {},
   "source": [
    "# Replace the null values in column['points'] by the mean of all points\n",
    "- the function fill_with_mean uses aggregate function to find the avg of all the values in points column.\n",
    "- then that value is the replaced with the null values by selecting only points column excluding other columns from the process."
   ]
  },
  {
   "cell_type": "code",
   "execution_count": 25,
   "metadata": {},
   "outputs": [
    {
     "name": "stdout",
     "output_type": "stream",
     "text": [
      "+------------------+------------------+----------+---------+------+----+\n",
      "|            course|               dob|first_name|last_name|points|s_id|\n",
      "+------------------+------------------+----------+---------+------+----+\n",
      "|Humanities and Art|  October 14, 1983|      Alan|      Joe|    10|   1|\n",
      "|  Computer Science|September 26, 1980|    Martin|  Genberg|    17|   2|\n",
      "|    Graphic Design|     June 12, 1982|     Athur|   Watson|    16|   3|\n",
      "|    Graphic Design|     April 5, 1987|  Anabelle|  Sanberg|    12|   4|\n",
      "|        Psychology|  November 1, 1978|      Kira| Schommer|    11|   5|\n",
      "|          Business|  17 February 1981| Christian|   Kiriam|    10|   6|\n",
      "|  Machine Learning|    1 January 1984|   Barbara|  Ballard|    14|   7|\n",
      "|     Deep Learning|  January 13, 1978|      John|     null|    10|   8|\n",
      "|  Machine Learning|  26 December 1989|    Marcus|   Carson|    15|   9|\n",
      "|           Physics|  30 December 1987|     Marta|   Brooks|    11|  10|\n",
      "|    Data Analytics|     June 12, 1975|     Holly| Schwartz|    12|  11|\n",
      "|  Computer Science|      July 2, 1985|     April|    Black|    11|  12|\n",
      "|  Computer Science|     July 22, 1980|     Irene|  Bradley|    13|  13|\n",
      "|        Psychology|   7 February 1986|      Mark|    Weber|    12|  14|\n",
      "|       Informatics|      May 18, 1987|     Rosie|   Norman|     9|  15|\n",
      "|          Business|   August 10, 1984|    Martin|   Steele|     7|  16|\n",
      "|  Machine Learning|  16 December 1990|     Colin| Martinez|     9|  17|\n",
      "|    Data Analytics|              null|   Bridget|    Twain|     6|  18|\n",
      "|          Business|      7 March 1980|   Darlene|    Mills|    19|  19|\n",
      "|    Data Analytics|      June 2, 1985|   Zachary|     null|    10|  20|\n",
      "+------------------+------------------+----------+---------+------+----+\n",
      "\n"
     ]
    }
   ],
   "source": [
    "def fill_with_mean(df, exclude=set()): \n",
    "    stats = df.agg(*(\n",
    "        fn.avg(c).alias(c) for c in df.columns if c not in exclude\n",
    "    ))\n",
    "    return df.na.fill(stats.first().asDict())\n",
    "df=fill_with_mean(df, ['course', 'dob', 'first_name', 'last_name','s_id'])\n",
    "df.show()"
   ]
  },
  {
   "cell_type": "markdown",
   "metadata": {},
   "source": [
    "# Replace the null value(s) in column dob by \"unknown\""
   ]
  },
  {
   "cell_type": "code",
   "execution_count": 26,
   "metadata": {},
   "outputs": [
    {
     "name": "stdout",
     "output_type": "stream",
     "text": [
      "+------------------+------------------+----------+---------+------+----+\n",
      "|            course|               dob|first_name|last_name|points|s_id|\n",
      "+------------------+------------------+----------+---------+------+----+\n",
      "|Humanities and Art|  October 14, 1983|      Alan|      Joe|    10|   1|\n",
      "|  Computer Science|September 26, 1980|    Martin|  Genberg|    17|   2|\n",
      "|    Graphic Design|     June 12, 1982|     Athur|   Watson|    16|   3|\n",
      "|    Graphic Design|     April 5, 1987|  Anabelle|  Sanberg|    12|   4|\n",
      "|        Psychology|  November 1, 1978|      Kira| Schommer|    11|   5|\n",
      "|          Business|  17 February 1981| Christian|   Kiriam|    10|   6|\n",
      "|  Machine Learning|    1 January 1984|   Barbara|  Ballard|    14|   7|\n",
      "|     Deep Learning|  January 13, 1978|      John|     null|    10|   8|\n",
      "|  Machine Learning|  26 December 1989|    Marcus|   Carson|    15|   9|\n",
      "|           Physics|  30 December 1987|     Marta|   Brooks|    11|  10|\n",
      "|    Data Analytics|     June 12, 1975|     Holly| Schwartz|    12|  11|\n",
      "|  Computer Science|      July 2, 1985|     April|    Black|    11|  12|\n",
      "|  Computer Science|     July 22, 1980|     Irene|  Bradley|    13|  13|\n",
      "|        Psychology|   7 February 1986|      Mark|    Weber|    12|  14|\n",
      "|       Informatics|      May 18, 1987|     Rosie|   Norman|     9|  15|\n",
      "|          Business|   August 10, 1984|    Martin|   Steele|     7|  16|\n",
      "|  Machine Learning|  16 December 1990|     Colin| Martinez|     9|  17|\n",
      "|    Data Analytics|           unknown|   Bridget|    Twain|     6|  18|\n",
      "|          Business|      7 March 1980|   Darlene|    Mills|    19|  19|\n",
      "|    Data Analytics|      June 2, 1985|   Zachary|     null|    10|  20|\n",
      "+------------------+------------------+----------+---------+------+----+\n",
      "\n"
     ]
    }
   ],
   "source": [
    "df=df.na.fill('unknown',['dob'])\n",
    "df.show()"
   ]
  },
  {
   "cell_type": "markdown",
   "metadata": {},
   "source": [
    "# Replace the null value(s) in column last name by \"--\""
   ]
  },
  {
   "cell_type": "code",
   "execution_count": 27,
   "metadata": {},
   "outputs": [
    {
     "name": "stdout",
     "output_type": "stream",
     "text": [
      "+------------------+------------------+----------+---------+------+----+\n",
      "|            course|               dob|first_name|last_name|points|s_id|\n",
      "+------------------+------------------+----------+---------+------+----+\n",
      "|Humanities and Art|  October 14, 1983|      Alan|      Joe|    10|   1|\n",
      "|  Computer Science|September 26, 1980|    Martin|  Genberg|    17|   2|\n",
      "|    Graphic Design|     June 12, 1982|     Athur|   Watson|    16|   3|\n",
      "|    Graphic Design|     April 5, 1987|  Anabelle|  Sanberg|    12|   4|\n",
      "|        Psychology|  November 1, 1978|      Kira| Schommer|    11|   5|\n",
      "|          Business|  17 February 1981| Christian|   Kiriam|    10|   6|\n",
      "|  Machine Learning|    1 January 1984|   Barbara|  Ballard|    14|   7|\n",
      "|     Deep Learning|  January 13, 1978|      John|       --|    10|   8|\n",
      "|  Machine Learning|  26 December 1989|    Marcus|   Carson|    15|   9|\n",
      "|           Physics|  30 December 1987|     Marta|   Brooks|    11|  10|\n",
      "|    Data Analytics|     June 12, 1975|     Holly| Schwartz|    12|  11|\n",
      "|  Computer Science|      July 2, 1985|     April|    Black|    11|  12|\n",
      "|  Computer Science|     July 22, 1980|     Irene|  Bradley|    13|  13|\n",
      "|        Psychology|   7 February 1986|      Mark|    Weber|    12|  14|\n",
      "|       Informatics|      May 18, 1987|     Rosie|   Norman|     9|  15|\n",
      "|          Business|   August 10, 1984|    Martin|   Steele|     7|  16|\n",
      "|  Machine Learning|  16 December 1990|     Colin| Martinez|     9|  17|\n",
      "|    Data Analytics|           unknown|   Bridget|    Twain|     6|  18|\n",
      "|          Business|      7 March 1980|   Darlene|    Mills|    19|  19|\n",
      "|    Data Analytics|      June 2, 1985|   Zachary|       --|    10|  20|\n",
      "+------------------+------------------+----------+---------+------+----+\n",
      "\n"
     ]
    }
   ],
   "source": [
    "df=df.na.fill('--',['last_name'])\n",
    "df.show()"
   ]
  },
  {
   "cell_type": "markdown",
   "metadata": {},
   "source": [
    "# Converting dob column to DD-MM-YYYY\n",
    "- first the date the converted by using to_data function which converts the date to YYYY-MM-DD"
   ]
  },
  {
   "cell_type": "code",
   "execution_count": 28,
   "metadata": {},
   "outputs": [
    {
     "name": "stdout",
     "output_type": "stream",
     "text": [
      "+------------------+----------+----------+---------+------+----+\n",
      "|            course|       dob|first_name|last_name|points|s_id|\n",
      "+------------------+----------+----------+---------+------+----+\n",
      "|Humanities and Art|1983-10-14|      Alan|      Joe|    10|   1|\n",
      "|  Computer Science|1980-09-26|    Martin|  Genberg|    17|   2|\n",
      "|    Graphic Design|1982-06-12|     Athur|   Watson|    16|   3|\n",
      "|    Graphic Design|1987-04-05|  Anabelle|  Sanberg|    12|   4|\n",
      "|        Psychology|1978-11-01|      Kira| Schommer|    11|   5|\n",
      "|          Business|1981-02-17| Christian|   Kiriam|    10|   6|\n",
      "|  Machine Learning|1984-01-01|   Barbara|  Ballard|    14|   7|\n",
      "|     Deep Learning|1978-01-13|      John|       --|    10|   8|\n",
      "|  Machine Learning|1989-12-26|    Marcus|   Carson|    15|   9|\n",
      "|           Physics|1987-12-30|     Marta|   Brooks|    11|  10|\n",
      "|    Data Analytics|1975-06-12|     Holly| Schwartz|    12|  11|\n",
      "|  Computer Science|1985-07-02|     April|    Black|    11|  12|\n",
      "|  Computer Science|1980-07-22|     Irene|  Bradley|    13|  13|\n",
      "|        Psychology|1986-02-07|      Mark|    Weber|    12|  14|\n",
      "|       Informatics|1987-05-18|     Rosie|   Norman|     9|  15|\n",
      "|          Business|1984-08-10|    Martin|   Steele|     7|  16|\n",
      "|  Machine Learning|1990-12-16|     Colin| Martinez|     9|  17|\n",
      "|    Data Analytics|      null|   Bridget|    Twain|     6|  18|\n",
      "|          Business|1980-03-07|   Darlene|    Mills|    19|  19|\n",
      "|    Data Analytics|1985-06-02|   Zachary|       --|    10|  20|\n",
      "+------------------+----------+----------+---------+------+----+\n",
      "\n"
     ]
    }
   ],
   "source": [
    "def to_date_(col, formats=(\"MMM dd, yyyy\", \"dd MMM yyyy\")):\n",
    "    return fn.coalesce(*[fn.to_date(col, f) for f in formats])\n",
    "df=df.withColumn(\"dob\",to_date_(\"dob\"))\n",
    "df.show()\n"
   ]
  },
  {
   "cell_type": "markdown",
   "metadata": {},
   "source": [
    "#### YYYY-MM-DD is the converted to DD-MM-YYYY using the function date_format"
   ]
  },
  {
   "cell_type": "code",
   "execution_count": 29,
   "metadata": {},
   "outputs": [
    {
     "name": "stdout",
     "output_type": "stream",
     "text": [
      "+------------------+----------+----------+---------+------+----+\n",
      "|            course|       dob|first_name|last_name|points|s_id|\n",
      "+------------------+----------+----------+---------+------+----+\n",
      "|Humanities and Art|14-10-1983|      Alan|      Joe|    10|   1|\n",
      "|  Computer Science|26-09-1980|    Martin|  Genberg|    17|   2|\n",
      "|    Graphic Design|12-06-1982|     Athur|   Watson|    16|   3|\n",
      "|    Graphic Design|05-04-1987|  Anabelle|  Sanberg|    12|   4|\n",
      "|        Psychology|01-11-1978|      Kira| Schommer|    11|   5|\n",
      "|          Business|17-02-1981| Christian|   Kiriam|    10|   6|\n",
      "|  Machine Learning|01-01-1984|   Barbara|  Ballard|    14|   7|\n",
      "|     Deep Learning|13-01-1978|      John|       --|    10|   8|\n",
      "|  Machine Learning|26-12-1989|    Marcus|   Carson|    15|   9|\n",
      "|           Physics|30-12-1987|     Marta|   Brooks|    11|  10|\n",
      "|    Data Analytics|12-06-1975|     Holly| Schwartz|    12|  11|\n",
      "|  Computer Science|02-07-1985|     April|    Black|    11|  12|\n",
      "|  Computer Science|22-07-1980|     Irene|  Bradley|    13|  13|\n",
      "|        Psychology|07-02-1986|      Mark|    Weber|    12|  14|\n",
      "|       Informatics|18-05-1987|     Rosie|   Norman|     9|  15|\n",
      "|          Business|10-08-1984|    Martin|   Steele|     7|  16|\n",
      "|  Machine Learning|16-12-1990|     Colin| Martinez|     9|  17|\n",
      "|    Data Analytics|      null|   Bridget|    Twain|     6|  18|\n",
      "|          Business|07-03-1980|   Darlene|    Mills|    19|  19|\n",
      "|    Data Analytics|02-06-1985|   Zachary|       --|    10|  20|\n",
      "+------------------+----------+----------+---------+------+----+\n",
      "\n"
     ]
    }
   ],
   "source": [
    "df=df.withColumn('dob', fn.date_format('dob', 'dd-MM-yyyy'))\n",
    "df.show()"
   ]
  },
  {
   "cell_type": "markdown",
   "metadata": {},
   "source": [
    "# The age is callculated by subtracting the current time and the dob column and casting to interger"
   ]
  },
  {
   "cell_type": "code",
   "execution_count": 30,
   "metadata": {},
   "outputs": [
    {
     "name": "stdout",
     "output_type": "stream",
     "text": [
      "+------------------+----------+----------+---------+------+----+------------+\n",
      "|            course|       dob|first_name|last_name|points|s_id|age_in_years|\n",
      "+------------------+----------+----------+---------+------+----+------------+\n",
      "|Humanities and Art|14-10-1983|      Alan|      Joe|    10|   1|          35|\n",
      "|  Computer Science|26-09-1980|    Martin|  Genberg|    17|   2|          38|\n",
      "|    Graphic Design|12-06-1982|     Athur|   Watson|    16|   3|          37|\n",
      "|    Graphic Design|05-04-1987|  Anabelle|  Sanberg|    12|   4|          32|\n",
      "|        Psychology|01-11-1978|      Kira| Schommer|    11|   5|          40|\n",
      "|          Business|17-02-1981| Christian|   Kiriam|    10|   6|          38|\n",
      "|  Machine Learning|01-01-1984|   Barbara|  Ballard|    14|   7|          35|\n",
      "|     Deep Learning|13-01-1978|      John|       --|    10|   8|          41|\n",
      "|  Machine Learning|26-12-1989|    Marcus|   Carson|    15|   9|          29|\n",
      "|           Physics|30-12-1987|     Marta|   Brooks|    11|  10|          31|\n",
      "|    Data Analytics|12-06-1975|     Holly| Schwartz|    12|  11|          44|\n",
      "|  Computer Science|02-07-1985|     April|    Black|    11|  12|          33|\n",
      "|  Computer Science|22-07-1980|     Irene|  Bradley|    13|  13|          38|\n",
      "|        Psychology|07-02-1986|      Mark|    Weber|    12|  14|          33|\n",
      "|       Informatics|18-05-1987|     Rosie|   Norman|     9|  15|          32|\n",
      "|          Business|10-08-1984|    Martin|   Steele|     7|  16|          34|\n",
      "|  Machine Learning|16-12-1990|     Colin| Martinez|     9|  17|          28|\n",
      "|    Data Analytics|      null|   Bridget|    Twain|     6|  18|        null|\n",
      "|          Business|07-03-1980|   Darlene|    Mills|    19|  19|          39|\n",
      "|    Data Analytics|02-06-1985|   Zachary|       --|    10|  20|          34|\n",
      "+------------------+----------+----------+---------+------+----+------------+\n",
      "\n"
     ]
    }
   ],
   "source": [
    "df=df.withColumn(\"age_in_years\",(fn.months_between(fn.to_date(fn.current_date(),'dd-MM-yyyy' ),fn.to_date(df.dob,'dd-MM-yyyy'))/12).cast(\"int\"))\n",
    "df.show()"
   ]
  },
  {
   "cell_type": "markdown",
   "metadata": {},
   "source": [
    "# Granting some points for good performed students in the class\n",
    "- At first the standard deviation is calculated for all the students\n",
    "- then the mean is calculated to add it with standard deviation and find the perform variable \n",
    "- which is used to give full marks to students who has current marks greater than the perform variable"
   ]
  },
  {
   "cell_type": "code",
   "execution_count": 32,
   "metadata": {},
   "outputs": [
    {
     "name": "stdout",
     "output_type": "stream",
     "text": [
      "+------------------+----------+----------+---------+------+----+------------+\n",
      "|course            |dob       |first_name|last_name|points|s_id|age_in_years|\n",
      "+------------------+----------+----------+---------+------+----+------------+\n",
      "|Humanities and Art|14-10-1983|Alan      |Joe      |10    |1   |35          |\n",
      "|Computer Science  |26-09-1980|Martin    |Genberg  |20    |2   |38          |\n",
      "|Graphic Design    |12-06-1982|Athur     |Watson   |20    |3   |37          |\n",
      "|Graphic Design    |05-04-1987|Anabelle  |Sanberg  |12    |4   |32          |\n",
      "|Psychology        |01-11-1978|Kira      |Schommer |11    |5   |40          |\n",
      "|Business          |17-02-1981|Christian |Kiriam   |10    |6   |38          |\n",
      "|Machine Learning  |01-01-1984|Barbara   |Ballard  |14    |7   |35          |\n",
      "|Deep Learning     |13-01-1978|John      |--       |10    |8   |41          |\n",
      "|Machine Learning  |26-12-1989|Marcus    |Carson   |20    |9   |29          |\n",
      "|Physics           |30-12-1987|Marta     |Brooks   |11    |10  |31          |\n",
      "|Data Analytics    |12-06-1975|Holly     |Schwartz |12    |11  |44          |\n",
      "|Computer Science  |02-07-1985|April     |Black    |11    |12  |33          |\n",
      "|Computer Science  |22-07-1980|Irene     |Bradley  |13    |13  |38          |\n",
      "|Psychology        |07-02-1986|Mark      |Weber    |12    |14  |33          |\n",
      "|Informatics       |18-05-1987|Rosie     |Norman   |9     |15  |32          |\n",
      "|Business          |10-08-1984|Martin    |Steele   |7     |16  |34          |\n",
      "|Machine Learning  |16-12-1990|Colin     |Martinez |9     |17  |28          |\n",
      "|Data Analytics    |null      |Bridget   |Twain    |6     |18  |null        |\n",
      "|Business          |07-03-1980|Darlene   |Mills    |20    |19  |39          |\n",
      "|Data Analytics    |02-06-1985|Zachary   |--       |10    |20  |34          |\n",
      "+------------------+----------+----------+---------+------+----+------------+\n",
      "\n"
     ]
    }
   ],
   "source": [
    "def fill_with_std(df, exclude=set()): \n",
    "    stats = df.agg(*(\n",
    "        fn.stddev(c).alias(c) for c in df.columns if c not in exclude\n",
    "    ))\n",
    "    return df.fill(stats.first().asDict())\n",
    "df_stats= df.select(fn.stddev(df.points).alias('std')).collect()\n",
    "std = df_stats[0]['std']\n",
    "df_stats_mean= df.select(fn.mean(df.points).alias('std')).collect()\n",
    "mean = df_stats_mean[0]['std']\n",
    "perform=std+mean\n",
    "df = df.withColumn(\"points\", fn.when(df.points > perform, 20).otherwise(fn.col('points')))\n",
    "df.show(truncate=False)"
   ]
  },
  {
   "cell_type": "markdown",
   "metadata": {},
   "source": [
    "# Histogram on the new points"
   ]
  },
  {
   "cell_type": "code",
   "execution_count": 33,
   "metadata": {},
   "outputs": [
    {
     "data": {
      "text/plain": [
       "(array([1., 0., 1., 0., 0., 0., 2., 0., 4., 0., 3., 0., 3., 0., 0., 1., 0.,\n",
       "        1., 0., 0., 0., 0., 0., 0., 0., 0., 0., 0., 0., 4.]),\n",
       " array([ 6.        ,  6.46666667,  6.93333333,  7.4       ,  7.86666667,\n",
       "         8.33333333,  8.8       ,  9.26666667,  9.73333333, 10.2       ,\n",
       "        10.66666667, 11.13333333, 11.6       , 12.06666667, 12.53333333,\n",
       "        13.        , 13.46666667, 13.93333333, 14.4       , 14.86666667,\n",
       "        15.33333333, 15.8       , 16.26666667, 16.73333333, 17.2       ,\n",
       "        17.66666667, 18.13333333, 18.6       , 19.06666667, 19.53333333,\n",
       "        20.        ]),\n",
       " <a list of 30 Patch objects>)"
      ]
     },
     "execution_count": 33,
     "metadata": {},
     "output_type": "execute_result"
    },
    {
     "data": {
      "image/png": "[encoded data removed]",
      "text/plain": [
       "<Figure size 432x288 with 1 Axes>"
      ]
     },
     "metadata": {
      "needs_background": "light"
     },
     "output_type": "display_data"
    }
   ],
   "source": [
    "a=df.select('points')\n",
    "fig, ax = plt.subplots()\n",
    "hist(ax, a, bins = 30, color=['red'])"
   ]
  },
  {
   "cell_type": "code",
   "execution_count": null,
   "metadata": {},
   "outputs": [],
   "source": []
  }
 ],
 "metadata": {
  "kernelspec": {
   "display_name": "Python 3",
   "language": "python",
   "name": "python3"
  },
  "language_info": {
   "codemirror_mode": {
    "name": "ipython",
    "version": 3
   },
   "file_extension": ".py",
   "mimetype": "text/x-python",
   "name": "python",
   "nbconvert_exporter": "python",
   "pygments_lexer": "ipython3",
   "version": "3.6.8"
  }
 },
 "nbformat": 4,
 "nbformat_minor": 2
}
