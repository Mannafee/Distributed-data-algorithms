{
 "cells": [
  {
   "cell_type": "code",
   "execution_count": 2,
   "metadata": {},
   "outputs": [],
   "source": [
    "from pyspark.sql import SparkSession\n",
    "from pyspark import SparkContext, SparkConf\n",
    "import pyspark.sql.functions as F\n",
    "from pyspark.sql.types import Row\n",
    "from pyspark.sql import SQLContext\n",
    "import matplotlib.pyplot as plt\n",
    "import numpy as np\n",
    "from pyspark_dist_explore import hist\n",
    "from pyspark.sql.types import IntegerType\n",
    "import datetime\n",
    "import time"
   ]
  },
  {
   "cell_type": "markdown",
   "metadata": {},
   "source": [
    "# Importing the data using spark dataframe from tags.dat"
   ]
  },
  {
   "cell_type": "code",
   "execution_count": 3,
   "metadata": {},
   "outputs": [
    {
     "name": "stdout",
     "output_type": "stream",
     "text": [
      "+---+----+-----+----+--------------------+----+----------+\n",
      "|_c0| _c1|  _c2| _c3|                 _c4| _c5|       _c6|\n",
      "+---+----+-----+----+--------------------+----+----------+\n",
      "| 15|null| 4973|null|          excellent!|null|1215184630|\n",
      "| 20|null| 1747|null|            politics|null|1188263867|\n",
      "| 20|null| 1747|null|              satire|null|1188263867|\n",
      "| 20|null| 2424|null|     chick flick 212|null|1188263835|\n",
      "| 20|null| 2424|null|               hanks|null|1188263835|\n",
      "| 20|null| 2424|null|                ryan|null|1188263835|\n",
      "| 20|null| 2947|null|              action|null|1188263755|\n",
      "| 20|null| 2947|null|                bond|null|1188263756|\n",
      "| 20|null| 3033|null|               spoof|null|1188263880|\n",
      "| 20|null| 3033|null|           star wars|null|1188263880|\n",
      "| 20|null| 7438|null|              bloody|null|1188263801|\n",
      "| 20|null| 7438|null|             kung fu|null|1188263801|\n",
      "| 20|null| 7438|null|           Tarantino|null|1188263801|\n",
      "| 21|null|55247|null|                   R|null|1205081506|\n",
      "| 21|null|55253|null|               NC-17|null|1205081488|\n",
      "| 25|null|   50|null|        Kevin Spacey|null|1166101426|\n",
      "| 25|null| 6709|null|         Johnny Depp|null|1162147221|\n",
      "| 31|null|   65|null|        buddy comedy|null|1188263759|\n",
      "| 31|null|  546|null|strangely compelling|null|1188263674|\n",
      "| 31|null| 1091|null|         catastrophe|null|1188263741|\n",
      "+---+----+-----+----+--------------------+----+----------+\n",
      "only showing top 20 rows\n",
      "\n"
     ]
    }
   ],
   "source": [
    "conf = SparkConf().setAppName(\"Spark Count\")\n",
    "sc = SparkContext.getOrCreate(conf=conf)\n",
    "\n",
    "spark = SparkSession \\\n",
    "    .builder \\\n",
    "    .appName(\"Python Spark create RDD example\") \\\n",
    "    .config(\"spark.some.config.option\", \"some-value\") \\\n",
    "    .getOrCreate()\n",
    "    \n",
    "\n",
    "df = spark.read.option(\"header\", \"false\") \\\n",
    "    .option(\"delimiter\", \":\") \\\n",
    "    .option(\"inferSchema\", \"true\") \\\n",
    "    .csv(r\"E:\\Documents\\University of Hildesheim\\Distributed data analytics\\lab8\\ml-10M100K\\tags.dat\")\n",
    "df.show()"
   ]
  },
  {
   "cell_type": "markdown",
   "metadata": {},
   "source": [
    "# Final data with column headings"
   ]
  },
  {
   "cell_type": "code",
   "execution_count": 4,
   "metadata": {},
   "outputs": [
    {
     "name": "stdout",
     "output_type": "stream",
     "text": [
      "+------+-------+--------------------+----------+\n",
      "|UserID|MovieID|                 Tag| Timestamp|\n",
      "+------+-------+--------------------+----------+\n",
      "|    15|   4973|          excellent!|1215184630|\n",
      "|    20|   2424|                ryan|1188263835|\n",
      "|    20|   1747|            politics|1188263867|\n",
      "|    20|   2424|     chick flick 212|1188263835|\n",
      "|    20|   7438|              bloody|1188263801|\n",
      "|    20|   7438|             kung fu|1188263801|\n",
      "|    20|   7438|           Tarantino|1188263801|\n",
      "|    20|   2947|              action|1188263755|\n",
      "|    20|   1747|              satire|1188263867|\n",
      "|    20|   2947|                bond|1188263756|\n",
      "|    20|   3033|               spoof|1188263880|\n",
      "|    20|   3033|           star wars|1188263880|\n",
      "|    20|   2424|               hanks|1188263835|\n",
      "|    21|  55253|               NC-17|1205081488|\n",
      "|    21|  55247|                   R|1205081506|\n",
      "|    25|     50|        Kevin Spacey|1166101426|\n",
      "|    25|   6709|         Johnny Depp|1162147221|\n",
      "|    31|     65|        buddy comedy|1188263759|\n",
      "|    31|    546|strangely compelling|1188263674|\n",
      "|    31|   1091|         catastrophe|1188263741|\n",
      "+------+-------+--------------------+----------+\n",
      "only showing top 20 rows\n",
      "\n"
     ]
    }
   ],
   "source": [
    "columns_to_drop = ['_c1', '_c3','_c5']\n",
    "df = df.drop(*columns_to_drop)    \n",
    "df = df.select(F.col(\"_c0\").alias(\"UserID\"), F.col(\"_c2\").alias(\"MovieID\"),F.col(\"_c4\").alias(\"Tag\"),F.col(\"_c6\").alias(\"Timestamp\"))\n",
    "df=df.orderBy('UserID', ascending=True)\n",
    "df = df.withColumn(\"Timestamp\", df[\"Timestamp\"].cast(IntegerType())) #casting the column to integer for so that it can be aggregated\n",
    "df.show()\n"
   ]
  },
  {
   "cell_type": "markdown",
   "metadata": {},
   "source": [
    "### The dataframe is grouped by UserID and an aggregation using the function collect_list to get all the timestamp for each userID"
   ]
  },
  {
   "cell_type": "code",
   "execution_count": 5,
   "metadata": {},
   "outputs": [
    {
     "name": "stdout",
     "output_type": "stream",
     "text": [
      "+------+--------------------+\n",
      "|UserID|                time|\n",
      "+------+--------------------+\n",
      "|    15|        [1215184630]|\n",
      "|    20|[1188263867, 1188...|\n",
      "|    21|[1205081506, 1205...|\n",
      "|    25|[1166101426, 1162...|\n",
      "|    31|[1188263759, 1188...|\n",
      "|    32|        [1164735331]|\n",
      "|    39|[1188263791, 1188...|\n",
      "|    48|[1215135611, 1215...|\n",
      "|    49|[1188264255, 1188...|\n",
      "|    75|        [1162160415]|\n",
      "|    78|        [1176691425]|\n",
      "|   109|[1211433235, 1165...|\n",
      "|   127|[1188265347, 1188...|\n",
      "|   133|[1188265396, 1188...|\n",
      "|   146|[1226742764, 1196...|\n",
      "|   147|[1162188712, 1162...|\n",
      "|   170|        [1162209176]|\n",
      "|   175|[1188441420, 1192...|\n",
      "|   181|[1188266123, 1188...|\n",
      "|   190|[1151700107, 1151...|\n",
      "+------+--------------------+\n",
      "only showing top 20 rows\n",
      "\n"
     ]
    }
   ],
   "source": [
    "df_grp=df.withColumn('UserID',df.UserID.cast(\"int\")).groupBy(['UserID']).agg(F.collect_list(\"Timestamp\").alias('time'))\n",
    "df_grp=df_grp.orderBy('UserID', ascending=True)\n",
    "df_grp.show()"
   ]
  },
  {
   "cell_type": "markdown",
   "metadata": {},
   "source": [
    "# Converting pyspark dataframe to pandas dataframe for data calculations"
   ]
  },
  {
   "cell_type": "code",
   "execution_count": 6,
   "metadata": {},
   "outputs": [
    {
     "name": "stdout",
     "output_type": "stream",
     "text": [
      "      UserID                                               time\n",
      "0         15                                       [1215184630]\n",
      "1         20  [1188263867, 1188263867, 1188263835, 118826383...\n",
      "2         21                           [1205081506, 1205081488]\n",
      "3         25                           [1166101426, 1162147221]\n",
      "4         31  [1188263759, 1188263674, 1188263741, 118826370...\n",
      "5         32                                       [1164735331]\n",
      "6         39  [1188263791, 1188263843, 1188263764, 118826378...\n",
      "7         48                           [1215135611, 1215135517]\n",
      "8         49  [1188264255, 1188264178, 1188264095, 118826409...\n",
      "9         75                                       [1162160415]\n",
      "10        78                                       [1176691425]\n",
      "11       109  [1211433235, 1165555281, 1165555288, 123112228...\n",
      "12       127  [1188265347, 1188265347, 1188265347, 118826536...\n",
      "13       133  [1188265396, 1188265375, 1188265375, 118826537...\n",
      "14       146  [1226742764, 1196517851, 1213424486, 121342443...\n",
      "15       147                           [1162188712, 1162188631]\n",
      "16       170                                       [1162209176]\n",
      "17       175                           [1188441420, 1192990133]\n",
      "18       181   [1188266123, 1188266123, 1188266123, 1188266123]\n",
      "19       190  [1151700107, 1151700139, 1140037169, 115170012...\n",
      "20       222                                       [1188267261]\n",
      "21       233  [1156523175, 1168109250, 1173525910, 117352591...\n",
      "22       240                                       [1139349414]\n",
      "23       249                                       [1162271746]\n",
      "24       267                                       [1192049634]\n",
      "25       283               [1137972371, 1137273990, 1137274016]\n",
      "26       284  [1188274135, 1188274458, 1188274459, 118827445...\n",
      "27       299  [1188275113, 1188275133, 1188275084, 118827508...\n",
      "28       325  [1185486223, 1185663289, 1172743571, 117274367...\n",
      "29       374  [1188280075, 1188280075, 1188280075, 118828007...\n",
      "...      ...                                                ...\n",
      "3979   71226                           [1215852911, 1215792475]\n",
      "3980   71241  [1188168485, 1188168459, 1188168459, 118816843...\n",
      "3981   71254  [1188170431, 1188170431, 1188172249, 118817224...\n",
      "3982   71262  [1188171125, 1188170879, 1188170905, 118817106...\n",
      "3983   71278                           [1215027062, 1219168674]\n",
      "3984   71287  [1188177633, 1188177725, 1188177750, 118817776...\n",
      "3985   71288                                       [1140897965]\n",
      "3986   71291  [1188178536, 1188178608, 1188178673, 118817832...\n",
      "3987   71301  [1188180451, 1188180451, 1188180451, 118818045...\n",
      "3988   71307                                       [1188278930]\n",
      "3989   71315  [1188185498, 1188185498, 1188185651, 118818565...\n",
      "3990   71323  [1188187590, 1188187633, 1188187609, 118818761...\n",
      "3991   71331  [1137174983, 1137174978, 1137174978, 113717499...\n",
      "3992   71394  [1188832352, 1188832312, 1188832326, 118883227...\n",
      "3993   71414  [1188233873, 1188233873, 1188233671, 118823367...\n",
      "3994   71420  [1206662843, 1206662843, 1206662717, 120666271...\n",
      "3995   71424  [1188236322, 1188236322, 1188236863, 118823686...\n",
      "3996   71448  [1188248846, 1188248808, 1188248785, 118824873...\n",
      "3997   71455  [1206704501, 1163327521, 1206706041, 116211036...\n",
      "3998   71478  [1139430266, 1139430266, 1139430266, 113976980...\n",
      "3999   71483                                       [1139090411]\n",
      "4000   71487               [1215191810, 1215193060, 1215191063]\n",
      "4001   71497  [1188331015, 1188330757, 1188331010, 118825637...\n",
      "4002   71509  [1214944808, 1186508886, 1214943600, 121494350...\n",
      "4003   71512                                       [1189368506]\n",
      "4004   71525                                       [1150030459]\n",
      "4005   71529               [1162098757, 1162098746, 1162098746]\n",
      "4006   71534  [1196645880, 1196647394, 1196646489, 119664714...\n",
      "4007   71536               [1162110221, 1162126283, 1162110266]\n",
      "4008   71556  [1188263570, 1188263571, 1188263606, 118826362...\n",
      "\n",
      "[4009 rows x 2 columns]\n"
     ]
    }
   ],
   "source": [
    "df_grp=df_grp.toPandas() \n",
    "print(df_grp)"
   ]
  },
  {
   "cell_type": "markdown",
   "metadata": {},
   "source": [
    "# Finding out the tagging frequency of each user after separating the Timestamps for each user\n",
    "- Calulated the mean and standard deviation for each user"
   ]
  },
  {
   "cell_type": "code",
   "execution_count": 7,
   "metadata": {},
   "outputs": [
    {
     "name": "stdout",
     "output_type": "stream",
     "text": [
      "+------+--------------------+-------+--------------------+------------------+----------------+------------------+\n",
      "|UserID|                time|Session|           frequency| mean_of_frequency|sum_of_frequency|            stddev|\n",
      "+------+--------------------+-------+--------------------+------------------+----------------+------------------+\n",
      "|    15|        [1215184630]|      1|                 [1]|               1.0|               1|               0.0|\n",
      "|    20|[1188263867, 1188...|      1|                [12]|              12.0|              12|               0.0|\n",
      "|    21|[1205081506, 1205...|      1|                 [2]|               2.0|               2|               0.0|\n",
      "|    25|[1166101426, 1162...|      1|                 [2]|               2.0|               2|               0.0|\n",
      "|    31|[1188263759, 1188...|      1|                 [5]|               5.0|               5|               0.0|\n",
      "|    32|        [1164735331]|      1|                 [1]|               1.0|               1|               0.0|\n",
      "|    39|[1188263791, 1188...|      1|                 [5]|               5.0|               5|               0.0|\n",
      "|    48|[1215135611, 1215...|      1|                 [2]|               2.0|               2|               0.0|\n",
      "|    49|[1188264255, 1188...|      1|                [15]|              15.0|              15|               0.0|\n",
      "|    75|        [1162160415]|      1|                 [1]|               1.0|               1|               0.0|\n",
      "|    78|        [1176691425]|      1|                 [1]|               1.0|               1|               0.0|\n",
      "|   109|[1211433235, 1165...|      9|[3, 2, 6, 2, 5, 2...|2.7777777777777777|              25| 1.617802197617893|\n",
      "|   127|[1188265347, 1188...|      1|                [26]|              26.0|              26|               0.0|\n",
      "|   133|[1188265396, 1188...|      1|                 [5]|               5.0|               5|               0.0|\n",
      "|   146|[1226742764, 1196...|    705|[2, 3, 3, 1, 3, 1...|2.3375886524822693|            1648|1.2946446708271042|\n",
      "|   147|[1162188712, 1162...|      1|                 [2]|               2.0|               2|               0.0|\n",
      "|   170|        [1162209176]|      1|                 [1]|               1.0|               1|               0.0|\n",
      "|   175|[1188441420, 1192...|      2|              [1, 1]|               1.0|               2|               0.0|\n",
      "|   181|[1188266123, 1188...|      1|                 [4]|               4.0|               4|               0.0|\n",
      "|   190|[1151700107, 1151...|      8|[3, 3, 2, 1, 5, 6...|              3.25|              26|1.5612494995995996|\n",
      "+------+--------------------+-------+--------------------+------------------+----------------+------------------+\n",
      "only showing top 20 rows\n",
      "\n"
     ]
    }
   ],
   "source": [
    "sess=[]\n",
    "tags=[]               \n",
    "for userid in range (0,len(df_grp)):\n",
    "    session=1\n",
    "    frequen=1\n",
    "    freq=[]\n",
    "    for i in range (1,len(df_grp['time'][userid])):\n",
    "            if(df_grp['time'][userid][i]-df_grp['time'][userid][i-1])>1800:\n",
    "                session+=1\n",
    "                freq.append(frequen)\n",
    "                frequen=0\n",
    "            frequen+=1\n",
    "    freq.append(frequen)\n",
    "    tags.append(freq)\n",
    "    sess.append(session)\n",
    "df_grp[\"Session\"]=sess\n",
    "df_grp[\"frequency\"]=tags\n",
    "mean_of_frq=[]\n",
    "sum_of_frq=[]\n",
    "stddev=[]\n",
    "for i in tags:\n",
    "    mean=np.mean(i)\n",
    "    total=np.sum(i)\n",
    "    std=np.std(i)\n",
    "    mean_of_frq.append(mean)\n",
    "    sum_of_frq.append(total)\n",
    "    stddev.append(std)\n",
    "df_grp[\"mean_of_frequency\"]= mean_of_frq\n",
    "df_grp[\"sum_of_frequency\"]= sum_of_frq\n",
    "df_grp[\"stddev\"]=stddev\n",
    "df=spark.createDataFrame(df_grp)\n",
    "# df = df.drop(*columns_to_drop)\n",
    "df.show()"
   ]
  },
  {
   "cell_type": "markdown",
   "metadata": {},
   "source": [
    "# Mean and standard deviation of the tagging frequency of All user"
   ]
  },
  {
   "cell_type": "code",
   "execution_count": 8,
   "metadata": {},
   "outputs": [
    {
     "name": "stdout",
     "output_type": "stream",
     "text": [
      "+------------------+------------------+\n",
      "|           average|standard_deviation|\n",
      "+------------------+------------------+\n",
      "|23.287353454726865| 171.3979804629899|\n",
      "+------------------+------------------+\n",
      "\n"
     ]
    }
   ],
   "source": [
    "mean_std=df.select(F.mean(df['sum_of_frequency']).alias('average'),F.stddev(df['sum_of_frequency']).alias('standard_deviation'))\n",
    "mean_std.show()"
   ]
  },
  {
   "cell_type": "markdown",
   "metadata": {},
   "source": [
    "#  List of users with a mean tagging frequency within the two standard deviation from\n"
   ]
  },
  {
   "cell_type": "code",
   "execution_count": 9,
   "metadata": {},
   "outputs": [
    {
     "name": "stdout",
     "output_type": "stream",
     "text": [
      "+------+--------------------+-------+--------------------+------------------+----------------+------------------+\n",
      "|UserID|                time|Session|           frequency| mean_of_frequency|sum_of_frequency|            stddev|\n",
      "+------+--------------------+-------+--------------------+------------------+----------------+------------------+\n",
      "|    15|        [1215184630]|      1|                 [1]|               1.0|               1|               0.0|\n",
      "|    20|[1188263867, 1188...|      1|                [12]|              12.0|              12|               0.0|\n",
      "|    21|[1205081506, 1205...|      1|                 [2]|               2.0|               2|               0.0|\n",
      "|    25|[1166101426, 1162...|      1|                 [2]|               2.0|               2|               0.0|\n",
      "|    31|[1188263759, 1188...|      1|                 [5]|               5.0|               5|               0.0|\n",
      "|    32|        [1164735331]|      1|                 [1]|               1.0|               1|               0.0|\n",
      "|    39|[1188263791, 1188...|      1|                 [5]|               5.0|               5|               0.0|\n",
      "|    48|[1215135611, 1215...|      1|                 [2]|               2.0|               2|               0.0|\n",
      "|    49|[1188264255, 1188...|      1|                [15]|              15.0|              15|               0.0|\n",
      "|    75|        [1162160415]|      1|                 [1]|               1.0|               1|               0.0|\n",
      "|    78|        [1176691425]|      1|                 [1]|               1.0|               1|               0.0|\n",
      "|   109|[1211433235, 1165...|      9|[3, 2, 6, 2, 5, 2...|2.7777777777777777|              25| 1.617802197617893|\n",
      "|   127|[1188265347, 1188...|      1|                [26]|              26.0|              26|               0.0|\n",
      "|   133|[1188265396, 1188...|      1|                 [5]|               5.0|               5|               0.0|\n",
      "|   146|[1226742764, 1196...|    705|[2, 3, 3, 1, 3, 1...|2.3375886524822693|            1648|1.2946446708271042|\n",
      "|   147|[1162188712, 1162...|      1|                 [2]|               2.0|               2|               0.0|\n",
      "|   170|        [1162209176]|      1|                 [1]|               1.0|               1|               0.0|\n",
      "|   175|[1188441420, 1192...|      2|              [1, 1]|               1.0|               2|               0.0|\n",
      "|   181|[1188266123, 1188...|      1|                 [4]|               4.0|               4|               0.0|\n",
      "|   190|[1151700107, 1151...|      8|[3, 3, 2, 1, 5, 6...|              3.25|              26|1.5612494995995996|\n",
      "+------+--------------------+-------+--------------------+------------------+----------------+------------------+\n",
      "only showing top 20 rows\n",
      "\n"
     ]
    }
   ],
   "source": [
    "l_bound=23.287353454726865-2*171.3979804629899\n",
    "u_bound=23.287353454726865+2*171.3979804629899\n",
    "df.filter(df['mean_of_frequency'].between(l_bound,u_bound)).show()"
   ]
  },
  {
   "cell_type": "code",
   "execution_count": null,
   "metadata": {},
   "outputs": [],
   "source": []
  }
 ],
 "metadata": {
  "kernelspec": {
   "display_name": "Python 3",
   "language": "python",
   "name": "python3"
  },
  "language_info": {
   "codemirror_mode": {
    "name": "ipython",
    "version": 3
   },
   "file_extension": ".py",
   "mimetype": "text/x-python",
   "name": "python",
   "nbconvert_exporter": "python",
   "pygments_lexer": "ipython3",
   "version": "3.6.8"
  }
 },
 "nbformat": 4,
 "nbformat_minor": 2
}
